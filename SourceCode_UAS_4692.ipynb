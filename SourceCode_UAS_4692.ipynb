{
  "nbformat": 4,
  "nbformat_minor": 0,
  "metadata": {
    "colab": {
      "provenance": []
    },
    "kernelspec": {
      "name": "python3",
      "display_name": "Python 3"
    },
    "language_info": {
      "name": "python"
    }
  },
  "cells": [
    {
      "cell_type": "markdown",
      "source": [
        "# **Mengimport File**"
      ],
      "metadata": {
        "id": "fi64zyFc69Nd"
      }
    },
    {
      "cell_type": "code",
      "execution_count": 22,
      "metadata": {
        "colab": {
          "base_uri": "https://localhost:8080/"
        },
        "id": "HTGtU1QetxCY",
        "outputId": "5af3a993-2fb6-4d72-eacd-05d512fec786"
      },
      "outputs": [
        {
          "output_type": "stream",
          "name": "stdout",
          "text": [
            "Drive already mounted at /content/drive; to attempt to forcibly remount, call drive.mount(\"/content/drive\", force_remount=True).\n"
          ]
        }
      ],
      "source": [
        "import pandas as pd\n",
        "import numpy as np\n",
        "import matplotlib.pyplot as plt\n",
        "import seaborn as sns\n",
        "from sklearn.model_selection import train_test_split\n",
        "from sklearn.preprocessing import MinMaxScaler\n",
        "from sklearn.ensemble import RandomForestRegressor\n",
        "from sklearn.metrics import mean_squared_error, r2_score\n",
        "import joblib\n",
        "\n",
        "from google.colab import drive\n",
        "drive.mount('/content/drive')"
      ]
    },
    {
      "cell_type": "markdown",
      "source": [
        "# **Load Dataset**"
      ],
      "metadata": {
        "id": "v-hOtreh7Fad"
      }
    },
    {
      "cell_type": "code",
      "source": [
        "data = pd.read_csv('/content/drive/MyDrive/Perkuliahan/Semester_5/Big_Data_Data_Mining/UAS/seattle-weather.csv')\n",
        "\n",
        "print(data.head(35))"
      ],
      "metadata": {
        "colab": {
          "base_uri": "https://localhost:8080/"
        },
        "id": "XhObAV23vdIg",
        "outputId": "b3dfcc19-b5d7-4cc2-dec6-affd30e2de17"
      },
      "execution_count": 23,
      "outputs": [
        {
          "output_type": "stream",
          "name": "stdout",
          "text": [
            "          date  precipitation  temp_max  temp_min  wind  weather\n",
            "0   2012-01-01            0.0      12.8       5.0   4.7  drizzle\n",
            "1   2012-01-02           10.9      10.6       2.8   4.5     rain\n",
            "2   2012-01-03            0.8      11.7       7.2   2.3     rain\n",
            "3   2012-01-04           20.3      12.2       5.6   4.7     rain\n",
            "4   2012-01-05            1.3       8.9       2.8   6.1     rain\n",
            "5   2012-01-06            2.5       4.4       2.2   2.2     rain\n",
            "6   2012-01-07            0.0       7.2       2.8   2.3     rain\n",
            "7   2012-01-08            0.0      10.0       2.8   2.0      sun\n",
            "8   2012-01-09            4.3       9.4       5.0   3.4     rain\n",
            "9   2012-01-10            1.0       6.1       0.6   3.4     rain\n",
            "10  2012-01-11            0.0       6.1      -1.1   5.1      sun\n",
            "11  2012-01-12            0.0       6.1      -1.7   1.9      sun\n",
            "12  2012-01-13            0.0       5.0      -2.8   1.3      sun\n",
            "13  2012-01-14            4.1       4.4       0.6   5.3     snow\n",
            "14  2012-01-15            5.3       1.1      -3.3   3.2     snow\n",
            "15  2012-01-16            2.5       1.7      -2.8   5.0     snow\n",
            "16  2012-01-17            8.1       3.3       0.0   5.6     snow\n",
            "17  2012-01-18           19.8       0.0      -2.8   5.0     snow\n",
            "18  2012-01-19           15.2      -1.1      -2.8   1.6     snow\n",
            "19  2012-01-20           13.5       7.2      -1.1   2.3     snow\n",
            "20  2012-01-21            3.0       8.3       3.3   8.2     rain\n",
            "21  2012-01-22            6.1       6.7       2.2   4.8     rain\n",
            "22  2012-01-23            0.0       8.3       1.1   3.6     rain\n",
            "23  2012-01-24            8.6      10.0       2.2   5.1     rain\n",
            "24  2012-01-25            8.1       8.9       4.4   5.4     rain\n",
            "25  2012-01-26            4.8       8.9       1.1   4.8     rain\n",
            "26  2012-01-27            0.0       6.7      -2.2   1.4  drizzle\n",
            "27  2012-01-28            0.0       6.7       0.6   2.2     rain\n",
            "28  2012-01-29           27.7       9.4       3.9   4.5     rain\n",
            "29  2012-01-30            3.6       8.3       6.1   5.1     rain\n",
            "30  2012-01-31            1.8       9.4       6.1   3.9     rain\n",
            "31  2012-02-01           13.5       8.9       3.3   2.7     rain\n",
            "32  2012-02-02            0.0       8.3       1.7   2.6      sun\n",
            "33  2012-02-03            0.0      14.4       2.2   5.3      sun\n",
            "34  2012-02-04            0.0      15.6       5.0   4.3      sun\n"
          ]
        }
      ]
    },
    {
      "cell_type": "markdown",
      "source": [
        "# **Memeriksa nilai null**"
      ],
      "metadata": {
        "id": "Z3Pmkfl37QpF"
      }
    },
    {
      "cell_type": "code",
      "source": [
        "print(data.isnull().sum())"
      ],
      "metadata": {
        "colab": {
          "base_uri": "https://localhost:8080/"
        },
        "id": "gC5VNDQiuSz7",
        "outputId": "f3309eae-2fa0-43ea-d558-4525fbc47844"
      },
      "execution_count": 24,
      "outputs": [
        {
          "output_type": "stream",
          "name": "stdout",
          "text": [
            "date             0\n",
            "precipitation    0\n",
            "temp_max         0\n",
            "temp_min         0\n",
            "wind             0\n",
            "weather          0\n",
            "dtype: int64\n"
          ]
        }
      ]
    },
    {
      "cell_type": "markdown",
      "source": [
        "Kita melewati kode dibawah ini karena tidak ada data yang kosong"
      ],
      "metadata": {
        "id": "scFq7J571Bes"
      }
    },
    {
      "cell_type": "code",
      "source": [
        "# Fill missing values with mean (if any)\n",
        "data.fillna(data.mean(), inplace=True)"
      ],
      "metadata": {
        "id": "8VcXkvl103v-"
      },
      "execution_count": null,
      "outputs": []
    },
    {
      "cell_type": "markdown",
      "source": [
        "# **Normalisasi**"
      ],
      "metadata": {
        "id": "hQvz6tsY7YBt"
      }
    },
    {
      "cell_type": "code",
      "source": [
        "# Convert date to datetime format\n",
        "data['date'] = pd.to_datetime(data['date'])\n",
        "\n",
        "# Feature Engineering: Extract features from the date\n",
        "data['year'] = data['date'].dt.year\n",
        "data['month'] = data['date'].dt.month\n",
        "data['day'] = data['date'].dt.day\n",
        "\n",
        "# Select relevant features for prediction\n",
        "X = data[['temp_max', 'temp_min', 'precipitation', 'wind']]\n",
        "y = data['temp_max']  # Predicting maximum temperature\n",
        "\n",
        "# Normalize the features\n",
        "scaler = MinMaxScaler()\n",
        "X_scaled = scaler.fit_transform(X)"
      ],
      "metadata": {
        "id": "2bVJVqz3wNbK"
      },
      "execution_count": 25,
      "outputs": []
    },
    {
      "cell_type": "markdown",
      "source": [
        "# **Melatih model**"
      ],
      "metadata": {
        "id": "6jX6ouI87d-d"
      }
    },
    {
      "cell_type": "code",
      "source": [
        "X_train, X_test, y_train, y_test = train_test_split(X_scaled, y, test_size=0.2, random_state=42)"
      ],
      "metadata": {
        "id": "7fcAzW8Dwa-r"
      },
      "execution_count": 26,
      "outputs": []
    },
    {
      "cell_type": "code",
      "source": [
        "model = RandomForestRegressor(n_estimators=100, random_state=42)\n",
        "model.fit(X_train, y_train)\n",
        "\n",
        "joblib.dump(model, 'weather_prediction_model.pkl')"
      ],
      "metadata": {
        "colab": {
          "base_uri": "https://localhost:8080/"
        },
        "id": "O0XNNEtruhtr",
        "outputId": "a2901ea9-57e5-48d6-a7b3-eb1f8ec9e606"
      },
      "execution_count": 31,
      "outputs": [
        {
          "output_type": "execute_result",
          "data": {
            "text/plain": [
              "['weather_prediction_model.pkl']"
            ]
          },
          "metadata": {},
          "execution_count": 31
        }
      ]
    },
    {
      "cell_type": "markdown",
      "source": [
        "# **Evaluasi**"
      ],
      "metadata": {
        "id": "UC4cSuaiBPg7"
      }
    },
    {
      "cell_type": "code",
      "source": [
        "y_pred = model.predict(X_test)\n",
        "mse = mean_squared_error(y_test, y_pred)\n",
        "r2 = r2_score(y_test, y_pred)\n",
        "\n",
        "print(f'Mean Squared Error: {mse}')\n",
        "print(f'R² Score: {r2}')"
      ],
      "metadata": {
        "colab": {
          "base_uri": "https://localhost:8080/"
        },
        "id": "9wqPzi1uukfo",
        "outputId": "f05b31da-c2b6-4792-9bea-4559618e6ee1"
      },
      "execution_count": 29,
      "outputs": [
        {
          "output_type": "stream",
          "name": "stdout",
          "text": [
            "Mean Squared Error: 0.0009988395904436595\n",
            "R² Score: 0.9999824481535072\n"
          ]
        }
      ]
    },
    {
      "cell_type": "markdown",
      "source": [
        "# **Visualisasi**"
      ],
      "metadata": {
        "id": "b76XqomvBTI0"
      }
    },
    {
      "cell_type": "code",
      "source": [
        "plt.figure(figsize=(10, 6))\n",
        "plt.scatter(y_test, y_pred)\n",
        "plt.xlabel('Actual Maximum Temperature')\n",
        "plt.ylabel('Predicted Maximum Temperature')\n",
        "plt.title('Actual vs Predicted Maximum Temperature')\n",
        "plt.plot([y.min(), y.max()], [y.min(), y.max()], 'k--', lw=2)  # Diagonal line\n",
        "plt.show()"
      ],
      "metadata": {
        "colab": {
          "base_uri": "https://localhost:8080/",
          "height": 564
        },
        "id": "Xh0wXWxRumuR",
        "outputId": "1c550669-0db2-4dcc-db3b-2480a4f33aad"
      },
      "execution_count": 30,
      "outputs": [
        {
          "output_type": "display_data",
          "data": {
            "text/plain": [
              "<Figure size 1000x600 with 1 Axes>"
            ],
            "image/png": "[encoded data removed]"
          },
          "metadata": {}
        }
      ]
    },
    {
      "cell_type": "markdown",
      "source": [
        "# **Mengimport Model**"
      ],
      "metadata": {
        "id": "OP5W3OAQCAy-"
      }
    },
    {
      "cell_type": "code",
      "source": [
        "from google.colab import files\n",
        "files.download('weather_prediction_model.pkl')"
      ],
      "metadata": {
        "colab": {
          "base_uri": "https://localhost:8080/",
          "height": 17
        },
        "id": "TQIrLL7W4vLE",
        "outputId": "a4dbb905-4538-452b-c3fc-89de0c1487ab"
      },
      "execution_count": 32,
      "outputs": [
        {
          "output_type": "display_data",
          "data": {
            "text/plain": [
              "<IPython.core.display.Javascript object>"
            ],
            "application/javascript": [
              "\n",
              "    async function download(id, filename, size) {\n",
              "      if (!google.colab.kernel.accessAllowed) {\n",
              "        return;\n",
              "      }\n",
              "      const div = document.createElement('div');\n",
              "      const label = document.createElement('label');\n",
              "      label.textContent = `Downloading \"${filename}\": `;\n",
              "      div.appendChild(label);\n",
              "      const progress = document.createElement('progress');\n",
              "      progress.max = size;\n",
              "      div.appendChild(progress);\n",
              "      document.body.appendChild(div);\n",
              "\n",
              "      const buffers = [];\n",
              "      let downloaded = 0;\n",
              "\n",
              "      const channel = await google.colab.kernel.comms.open(id);\n",
              "      // Send a message to notify the kernel that we're ready.\n",
              "      channel.send({})\n",
              "\n",
              "      for await (const message of channel.messages) {\n",
              "        // Send a message to notify the kernel that we're ready.\n",
              "        channel.send({})\n",
              "        if (message.buffers) {\n",
              "          for (const buffer of message.buffers) {\n",
              "            buffers.push(buffer);\n",
              "            downloaded += buffer.byteLength;\n",
              "            progress.value = downloaded;\n",
              "          }\n",
              "        }\n",
              "      }\n",
              "      const blob = new Blob(buffers, {type: 'application/binary'});\n",
              "      const a = document.createElement('a');\n",
              "      a.href = window.URL.createObjectURL(blob);\n",
              "      a.download = filename;\n",
              "      div.appendChild(a);\n",
              "      a.click();\n",
              "      div.remove();\n",
              "    }\n",
              "  "
            ]
          },
          "metadata": {}
        },
        {
          "output_type": "display_data",
          "data": {
            "text/plain": [
              "<IPython.core.display.Javascript object>"
            ],
            "application/javascript": [
              "download(\"download_c02efeaa-d531-42cd-af34-4f7b02566640\", \"weather_prediction_model.pkl\", 1490961)"
            ]
          },
          "metadata": {}
        }
      ]
    }
  ]
}